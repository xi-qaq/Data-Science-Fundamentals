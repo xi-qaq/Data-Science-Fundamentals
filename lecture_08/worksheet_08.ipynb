{
 "cells": [
  {
   "attachments": {},
   "cell_type": "markdown",
   "metadata": {},
   "source": [
    "# Worksheet 08\n",
    "\n",
    "Name:  Xi Chen\n",
    "UID: U23766637\n",
    "\n",
    "### Topics\n",
    "\n",
    "- Soft Clustering\n",
    "- Clustering Aggregation\n",
    "\n",
    "### Probability Review\n",
    "\n",
    "Read through [the following](https://medium.com/@gallettilance/overview-of-probability-3272b72c82c8)\n",
    "\n",
    "### Soft Clustering\n",
    "\n",
    "We generate 10 data points that come from a normal distribution with mean 5 and variance 1."
   ]
  },
  {
   "cell_type": "code",
   "execution_count": 5,
   "metadata": {
    "ExecuteTime": {
     "end_time": "2024-02-27T20:40:51.009800800Z",
     "start_time": "2024-02-27T20:40:51.000096700Z"
    }
   },
   "outputs": [
    {
     "name": "stdout",
     "output_type": "stream",
     "text": [
      "[3.3135841172371245, 4.1691042729705945, 4.119105272712373, 6.3116319531846505, 4.477806784842295, 4.122060748847998, 3.045436351326088, 6.040815417225703, 5.460865846586146, 6.172934818572629]\n"
     ]
    }
   ],
   "source": [
    "import random\n",
    "import numpy as np\n",
    "from sklearn.cluster import KMeans\n",
    "\n",
    "mean = 5\n",
    "stdev = 1\n",
    "\n",
    "s1 = np.random.normal(mean, stdev, 10).tolist()\n",
    "print(s1)"
   ]
  },
  {
   "cell_type": "markdown",
   "metadata": {},
   "source": [
    "a) Generate 10 more data points, this time coming from a normal distribution with mean 8 and variance 1."
   ]
  },
  {
   "cell_type": "code",
   "execution_count": 6,
   "metadata": {
    "ExecuteTime": {
     "end_time": "2024-02-27T20:41:01.184406Z",
     "start_time": "2024-02-27T20:41:01.162509900Z"
    }
   },
   "outputs": [
    {
     "name": "stdout",
     "output_type": "stream",
     "text": [
      "[7.53368274717265, 10.163054160750784, 7.61820321307033, 8.200124515756551, 6.7020333094577875, 7.060059709411738, 7.431116063463243, 8.960852712962737, 8.364850842050934, 9.014533834334113]\n"
     ]
    }
   ],
   "source": [
    "mean = 8\n",
    "stdev = 1\n",
    "s2 = np.random.normal( mean  , stdev , 10 ).tolist()\n",
    "print(s2)"
   ]
  },
  {
   "attachments": {},
   "cell_type": "markdown",
   "metadata": {},
   "source": [
    "b) Flip a fair coin 10 times. If the coin lands on H, then pick the last data point of `s1` and remove it from `s1`, if T then pick the last data point from `s2` and remove it from `s2`. Add these 10 points to a list called `data`."
   ]
  },
  {
   "cell_type": "code",
   "execution_count": 7,
   "metadata": {
    "ExecuteTime": {
     "end_time": "2024-02-27T20:41:02.819458700Z",
     "start_time": "2024-02-27T20:41:02.803973700Z"
    }
   },
   "outputs": [
    {
     "name": "stdout",
     "output_type": "stream",
     "text": [
      "[6.172934818572629, 5.460865846586146, 9.014533834334113, 6.040815417225703, 8.364850842050934, 8.960852712962737, 7.431116063463243, 7.060059709411738, 6.7020333094577875, 3.045436351326088]\n"
     ]
    }
   ],
   "source": [
    "data = []\n",
    "for i in range(10):\n",
    "    # flip coin\n",
    "    coin_output = random.choice([0, 1])\n",
    "    if coin_output == 0:\n",
    "        p1 = s1.pop()\n",
    "        data.append(p1)\n",
    "    else:\n",
    "        p2 = s2.pop()\n",
    "        data.append(p2)\n",
    "print(data)"
   ]
  },
  {
   "cell_type": "markdown",
   "metadata": {},
   "source": [
    "c) This `data` is a Gaussian Mixture Distribution with 2 mixture components. Over the next few questions we will walk through the GMM algorithm to see if we can uncover the parameters we used to generate this data. First, please list all these parameters of the GMM that created `data` and the values we know they have."
   ]
  },
  {
   "cell_type": "markdown",
   "metadata": {},
   "source": [
    "- `mean_j` : the mean of the j-th component\n",
    "- `variance_j` : the variance of the j-th component\n",
    "- `P(S_j)` : the proportion of points in the j-th component\n",
    "- `P(S_j | X_i)` : the probability of the i-th point belonging to the j-th component\n",
    "- `P(X_i | S_j)` : the probability of the i-th point given the j-th component\n",
    "- `P(S_j | X_i)` : the probability of the j-th component given the i-th point\n",
    "- `P(X_i)` : the probability of the i-th point\n",
    "- `k` : the number of components\n",
    "- `n` : the number of points\n",
    "- `data` : the data points\n",
    "- `prob_s` : the proportion of points in each cluster\n",
    "- `prob_s_j_x` : the probability of the j-th component given the i-th point\n",
    "- `prob_x` : the probability of the i-th point\n",
    "- `pdf_i` : the probability of the i-th point given the j-th component"
   ]
  },
  {
   "cell_type": "markdown",
   "metadata": {},
   "source": [
    "d) Let's assume there are two mixture components (note: we could plot the data and make the observation that there are two clusters). The EM algorithm asks us to start with a random `mean_j`, `variance_j`, `P(S_j)` for each component j. One method we could use to find sensible values for these is to apply K means with k=2 here.\n",
    "\n",
    "1. the centroids would be the estimates of the `mean_j`\n",
    "2. the intra-cluster variance could be the estimate of `variance_j`\n",
    "3. the proportion of points in each cluster could be the estimate of `P(S_j)`\n",
    "\n",
    "Go through this process and list the parameter estimates it gives. Are they close or far from the true values?"
   ]
  },
  {
   "cell_type": "code",
   "execution_count": 8,
   "metadata": {
    "ExecuteTime": {
     "end_time": "2024-02-27T20:41:08.599434100Z",
     "start_time": "2024-02-27T20:41:07.717578400Z"
    }
   },
   "outputs": [
    {
     "name": "stdout",
     "output_type": "stream",
     "text": [
      "[9.014533834334113, 8.364850842050934, 8.960852712962737, 7.431116063463243]\n",
      "[6.172934818572629, 5.460865846586146, 6.040815417225703, 7.060059709411738, 6.7020333094577875, 3.045436351326088]\n",
      "P(S_1) = 0.4,  P(S_2) = 0.6\n",
      "mean_1 = 8.442838363202757,  mean_2 = 5.747024242096682\n",
      "var_1 = 0.4062096608787438,  var_2 = 1.7140468816310719\n"
     ]
    }
   ],
   "source": [
    "kmeans = KMeans(2, init='k-means++').fit(X=np.array(data).reshape(-1, 1))\n",
    "\n",
    "s1 = [x[0] for x in filter(lambda x: x[1] == 0, zip(data, kmeans.labels_))]\n",
    "print(s1)\n",
    "s2 = [x[0] for x in filter(lambda x: x[1] == 1, zip(data, kmeans.labels_))]\n",
    "print(s2)\n",
    "\n",
    "prob_s = [ len(s1) / (len(s1) + len(s2)) , len(s2) / (len(s1) + len(s2)) ]\n",
    "mean = [ sum(s1)/len(s1) , sum(s2)/len(s2) ]\n",
    "var = [ sum(map(lambda x : (x - mean[0])**2, s1)) / len(s1) , sum(map(lambda x : (x - mean[1])**2, s2)) / len(s2) ]\n",
    "\n",
    "print(\"P(S_1) = \" + str(prob_s[0]) + \",  P(S_2) = \" + str(prob_s[1]))\n",
    "print(\"mean_1 = \" + str(mean[0]) + \",  mean_2 = \" + str(mean[1]))\n",
    "print(\"var_1 = \" + str(var[0]) + \",  var_2 = \" + str(var[1]))"
   ]
  },
  {
   "cell_type": "markdown",
   "metadata": {},
   "source": []
  },
  {
   "cell_type": "markdown",
   "metadata": {},
   "source": [
    "e) For each data point, compute `P(S_j | X_i)`. Comment on which cluster you think each point belongs to based on the estimated probabilities. How does that compare to the truth?"
   ]
  },
  {
   "cell_type": "code",
   "execution_count": 9,
   "metadata": {
    "ExecuteTime": {
     "end_time": "2024-02-27T20:41:13.821694900Z",
     "start_time": "2024-02-27T20:41:13.806630200Z"
    }
   },
   "outputs": [
    {
     "name": "stdout",
     "output_type": "stream",
     "text": [
      "point =  6.172934818572629\n",
      "probability of observing that point if it came from cluster 0 =  1.6276162053941987e-07\n",
      "probability of observing that point if it came from cluster 1 =  0.22567317147317184\n",
      "point =  5.460865846586146\n",
      "probability of observing that point if it came from cluster 0 =  1.9504413996103146e-12\n",
      "probability of observing that point if it came from cluster 1 =  0.22952767057492196\n",
      "point =  9.014533834334113\n",
      "probability of observing that point if it came from cluster 0 =  0.3647926429024162\n",
      "probability of observing that point if it came from cluster 1 =  0.03782405352528412\n",
      "point =  6.040815417225703\n",
      "probability of observing that point if it came from cluster 0 =  2.5075642634074323e-08\n",
      "probability of observing that point if it came from cluster 1 =  0.22935482071284205\n",
      "point =  8.364850842050934\n",
      "probability of observing that point if it came from cluster 0 =  0.9641750157457174\n",
      "probability of observing that point if it came from cluster 1 =  0.07250605515085728\n",
      "point =  8.960852712962737\n",
      "probability of observing that point if it came from cluster 0 =  0.4355395040986457\n",
      "probability of observing that point if it came from cluster 1 =  0.040131332635203174\n",
      "point =  7.431116063463243\n",
      "probability of observing that point if it came from cluster 0 =  0.044170499417416915\n",
      "probability of observing that point if it came from cluster 1 =  0.1436361095969605\n",
      "point =  7.060059709411738\n",
      "probability of observing that point if it came from cluster 0 =  0.002991429233790496\n",
      "probability of observing that point if it came from cluster 1 =  0.1735642429448004\n",
      "point =  6.7020333094577875\n",
      "probability of observing that point if it came from cluster 0 =  0.00010096468193675288\n",
      "probability of observing that point if it came from cluster 1 =  0.1992862953001288\n",
      "point =  3.045436351326088\n",
      "probability of observing that point if it came from cluster 0 =  4.51542176049638e-39\n",
      "probability of observing that point if it came from cluster 1 =  0.06721132048317956\n",
      "6.172934818572629\n",
      "Probability of coming from S_1 = 4.808178754500952e-07\n",
      "Probability of coming from S_2 = 0.9999995191821245\n",
      "\n",
      "5.460865846586146\n",
      "Probability of coming from S_1 = 5.6650871903266705e-12\n",
      "Probability of coming from S_2 = 0.9999999999943349\n",
      "\n",
      "9.014533834334113\n",
      "Probability of coming from S_1 = 0.8654039993798789\n",
      "Probability of coming from S_2 = 0.1345960006201211\n",
      "\n",
      "6.040815417225703\n",
      "Probability of coming from S_1 = 7.288747547995184e-08\n",
      "Probability of coming from S_2 = 0.9999999271125246\n",
      "\n",
      "8.364850842050934\n",
      "Probability of coming from S_1 = 0.8986339581516023\n",
      "Probability of coming from S_2 = 0.10136604184839768\n",
      "\n",
      "8.960852712962737\n",
      "Probability of coming from S_1 = 0.8785705741209919\n",
      "Probability of coming from S_2 = 0.12142942587900804\n",
      "\n",
      "7.431116063463243\n",
      "Probability of coming from S_1 = 0.17013213909929548\n",
      "Probability of coming from S_2 = 0.8298678609007045\n",
      "\n",
      "7.060059709411738\n",
      "Probability of coming from S_1 = 0.01135966544078789\n",
      "Probability of coming from S_2 = 0.9886403345592121\n",
      "\n",
      "6.7020333094577875\n",
      "Probability of coming from S_1 = 0.0003376401842750407\n",
      "Probability of coming from S_2 = 0.9996623598157249\n",
      "\n",
      "3.045436351326088\n",
      "Probability of coming from S_1 = 4.478830577979216e-38\n",
      "Probability of coming from S_2 = 1.0\n"
     ]
    }
   ],
   "source": [
    "from scipy.stats import norm\n",
    "\n",
    "prob_s0_x = [] # P(S_0 | X_i)\n",
    "prob_s1_x = [] # P(S_1 | X_i)\n",
    "prob_x = [] # P(X_i)\n",
    "\n",
    "k = 2\n",
    "\n",
    "for p in data:\n",
    "    print(\"point = \", p)\n",
    "    pdf_i = []\n",
    "\n",
    "    for j in range(k):\n",
    "        # P(X_i | S_j)\n",
    "        pdf_i.append(norm.pdf(p, mean[j], var[j]))\n",
    "        print(\"probability of observing that point if it came from cluster \" + str(j) + \" = \", pdf_i[j])\n",
    "        # P(S_j) already computed\n",
    "        prob_s[j]\n",
    "\n",
    "    # P(X_i) = P(S_0)P(X_i | S_0) + P(S_1)P(X_i | S_1)\n",
    "    prob_x = prob_s[0] * pdf_i[0] + prob_s[1] * pdf_i[1]\n",
    "\n",
    "    # P(S_j | X_i) = P(X_i | S_j)P(S_j) / P(X_i)\n",
    "    prob_s0_x.append( pdf_i[0] * prob_s[0] / prob_x)\n",
    "    prob_s1_x.append( pdf_i[1] * prob_s[1] / prob_x)\n",
    "\n",
    "probs = zip(data, prob_s0_x, prob_s1_x)\n",
    "for p in probs:\n",
    "    print(p[0])\n",
    "    print(\"Probability of coming from S_1 = \" + str(p[1]))\n",
    "    print(\"Probability of coming from S_2 = \" + str(p[2]))\n",
    "    print()\n"
   ]
  },
  {
   "cell_type": "markdown",
   "metadata": {},
   "source": [
    "f) Having computed `P(S_j | X_i)`, update the estimates of `mean_j`, `var_j`, and `P(S_j)`. How different are these values from the original ones you got from K means? briefly comment."
   ]
  },
  {
   "cell_type": "code",
   "execution_count": 10,
   "metadata": {
    "ExecuteTime": {
     "end_time": "2024-02-27T20:42:48.474454900Z",
     "start_time": "2024-02-27T20:42:48.458900500Z"
    }
   },
   "outputs": [
    {
     "name": "stdout",
     "output_type": "stream",
     "text": [
      "P(S_1) = 0.4,  P(S_2) = 0.6\n",
      "mean_1 = 8.6876141143737,  mean_2 = 6.092326997618799\n",
      "var_1 = 0.1953412055222592,  var_2 = 2.111104579535503\n"
     ]
    }
   ],
   "source": [
    "prob_c = [sum(prob_s0_x)/ len(prob_s0_x), sum(prob_s1_x)/ len(prob_s1_x) ]\n",
    "mean = [sum([x[0] * x[1] for x in zip(prob_s0_x, data)]) / sum(prob_s0_x), sum([x[0] * x[1] for x in zip(prob_s1_x, data)]) / sum(prob_s1_x)]\n",
    "var = [ sum([x[0] * (x[1] - mean[0])**2 for x in zip(prob_s0_x, data)]) / sum(prob_s0_x), sum([x[0] * (x[1] - mean[1])**2 for x in zip(prob_s1_x, data)]) / sum(prob_s1_x)]\n",
    "\n",
    "print(\"P(S_1) = \" + str(prob_s[0]) + \",  P(S_2) = \" + str(prob_s[1]))\n",
    "print(\"mean_1 = \" + str(mean[0]) + \",  mean_2 = \" + str(mean[1]))\n",
    "print(\"var_1 = \" + str(var[0]) + \",  var_2 = \" + str(var[1]))\n",
    "\n",
    "\n",
    "# The difference is that the original ones are calculated from the centroids of the clusters, while the new ones are calculated from the probabilities of the points belonging to the clusters."
   ]
  },
  {
   "cell_type": "markdown",
   "metadata": {},
   "source": []
  },
  {
   "cell_type": "markdown",
   "metadata": {},
   "source": [
    "g) Update `P(S_j | X_i)`. Comment on any differences or lack thereof you observe."
   ]
  },
  {
   "cell_type": "code",
   "execution_count": 11,
   "metadata": {
    "ExecuteTime": {
     "end_time": "2024-02-27T20:47:10.261156700Z",
     "start_time": "2024-02-27T20:47:10.243872100Z"
    }
   },
   "outputs": [
    {
     "name": "stdout",
     "output_type": "stream",
     "text": [
      "point =  6.172934818572629\n",
      "probability of observing that point if it came from cluster 0 =  2.1099068068956695e-36\n",
      "probability of observing that point if it came from cluster 1 =  0.18883553969143\n",
      "point =  5.460865846586146\n",
      "probability of observing that point if it came from cluster 0 =  1.1454325428137703e-59\n",
      "probability of observing that point if it came from cluster 1 =  0.18070589402055928\n",
      "point =  9.014533834334113\n",
      "probability of observing that point if it came from cluster 0 =  0.5033995562895269\n",
      "probability of observing that point if it came from cluster 1 =  0.07250026428694185\n",
      "point =  6.040815417225703\n",
      "probability of observing that point if it came from cluster 0 =  2.7770796607346498e-40\n",
      "probability of observing that point if it came from cluster 1 =  0.18891699724670902\n",
      "point =  8.364850842050934\n",
      "probability of observing that point if it came from cluster 0 =  0.521530695651218\n",
      "probability of observing that point if it came from cluster 1 =  0.10587087868698168\n",
      "point =  8.960852712962737\n",
      "probability of observing that point if it came from cluster 0 =  0.7678059357932356\n",
      "probability of observing that point if it came from cluster 1 =  0.07507326586612595\n",
      "point =  7.431116063463243\n",
      "probability of observing that point if it came from cluster 0 =  2.116861563639704e-09\n",
      "probability of observing that point if it came from cluster 1 =  0.15455077529379196\n",
      "point =  7.060059709411738\n",
      "probability of observing that point if it came from cluster 0 =  1.7210761865063765e-15\n",
      "probability of observing that point if it came from cluster 1 =  0.170126051668008\n",
      "point =  6.7020333094577875\n",
      "probability of observing that point if it came from cluster 0 =  7.487001736061535e-23\n",
      "probability of observing that point if it came from cluster 1 =  0.18125412938666616\n",
      "point =  3.045436351326088\n",
      "probability of observing that point if it came from cluster 0 =  1.4158956102575618e-181\n",
      "probability of observing that point if it came from cluster 1 =  0.0666925678562826\n",
      "6.172934818572629\n",
      "Probability of coming from S_1 = 7.448833732405103e-36\n",
      "Probability of coming from S_2 = 1.0\n",
      "\n",
      "5.460865846586146\n",
      "Probability of coming from S_1 = 4.225770826945475e-59\n",
      "Probability of coming from S_2 = 1.0\n",
      "\n",
      "9.014533834334113\n",
      "Probability of coming from S_1 = 0.822346802532277\n",
      "Probability of coming from S_2 = 0.17765319746772304\n",
      "\n",
      "6.040815417225703\n",
      "Probability of coming from S_1 = 9.799999298485665e-40\n",
      "Probability of coming from S_2 = 1.0\n",
      "\n",
      "8.364850842050934\n",
      "Probability of coming from S_1 = 0.7665769834113815\n",
      "Probability of coming from S_2 = 0.23342301658861866\n",
      "\n",
      "8.960852712962737\n",
      "Probability of coming from S_1 = 0.8720946462175797\n",
      "Probability of coming from S_2 = 0.12790535378242032\n",
      "\n",
      "7.431116063463243\n",
      "Probability of coming from S_1 = 9.13124522900254e-09\n",
      "Probability of coming from S_2 = 0.9999999908687548\n",
      "\n",
      "7.060059709411738\n",
      "Probability of coming from S_1 = 6.744317599144874e-15\n",
      "Probability of coming from S_2 = 0.9999999999999932\n",
      "\n",
      "6.7020333094577875\n",
      "Probability of coming from S_1 = 2.7537769801976573e-22\n",
      "Probability of coming from S_2 = 1.0\n",
      "\n",
      "3.045436351326088\n",
      "Probability of coming from S_1 = 1.4153457231883362e-180\n",
      "Probability of coming from S_2 = 1.0\n"
     ]
    }
   ],
   "source": [
    "prob_s0_x = [] # P(S_0 | X_i)\n",
    "prob_s1_x = [] # P(S_1 | X_i)\n",
    "prob_x = [] # P(X_i)\n",
    "\n",
    "k = 2\n",
    "\n",
    "for p in data:\n",
    "    print(\"point = \", p)\n",
    "    pdf_i = []\n",
    "\n",
    "    for j in range(k):\n",
    "        # P(X_i | S_j)\n",
    "        pdf_i.append(norm.pdf(p, mean[j], var[j]))\n",
    "        print(\"probability of observing that point if it came from cluster \" + str(j) + \" = \", pdf_i[j])\n",
    "        # P(S_j) already computed\n",
    "        prob_s[j]\n",
    "\n",
    "    # P(X_i) = P(S_0)P(X_i | S_0) + P(S_1)P(X_i | S_1)\n",
    "    prob_x = prob_s[0] * pdf_i[0] + prob_s[1] * pdf_i[1]\n",
    "\n",
    "    # P(S_j | X_i) = P(X_i | S_j)P(S_j) / P(X_i)\n",
    "    prob_s0_x.append( pdf_i[0] * prob_s[0] / prob_x)\n",
    "    prob_s1_x.append( pdf_i[1] * prob_s[1] / prob_x)\n",
    "    \n",
    "probs = zip(data, prob_s0_x, prob_s1_x)\n",
    "for p in probs:\n",
    "    print(p[0])\n",
    "    print(\"Probability of coming from S_1 = \" + str(p[1]))\n",
    "    print(\"Probability of coming from S_2 = \" + str(p[2]))\n",
    "    print()\n",
    "# The probabilities are updated based on the new estimates of the parameters.\n",
    "# differences are observed in the probabilities of the points belonging to the clusters.\n",
    "# lack: the probabilities are not updated much, because the parameters are already close to the true values."
   ]
  },
  {
   "cell_type": "markdown",
   "metadata": {},
   "source": []
  },
  {
   "cell_type": "markdown",
   "metadata": {},
   "source": [
    "h) Use `P(S_j | X_i)` to create a hard assignment - label each point as belonging to a specific cluster (0 or 1)"
   ]
  },
  {
   "cell_type": "code",
   "execution_count": 12,
   "metadata": {
    "ExecuteTime": {
     "end_time": "2024-02-27T20:48:01.549322Z",
     "start_time": "2024-02-27T20:48:01.526852100Z"
    }
   },
   "outputs": [
    {
     "name": "stdout",
     "output_type": "stream",
     "text": [
      "[1, 1, 0, 1, 0, 0, 1, 1, 1, 1]\n"
     ]
    }
   ],
   "source": [
    "\n",
    "labels = [0 if x[1] > x[2] else 1 for x in zip(data, prob_s0_x, prob_s1_x)]\n",
    "print(labels)\n"
   ]
  },
  {
   "cell_type": "code",
   "execution_count": null,
   "outputs": [],
   "source": [],
   "metadata": {
    "collapsed": false
   }
  }
 ],
 "metadata": {
  "kernelspec": {
   "display_name": "Python 3",
   "language": "python",
   "name": "python3"
  },
  "language_info": {
   "codemirror_mode": {
    "name": "ipython",
    "version": 3
   },
   "file_extension": ".py",
   "mimetype": "text/x-python",
   "name": "python",
   "nbconvert_exporter": "python",
   "pygments_lexer": "ipython3",
   "version": "3.11.1"
  },
  "orig_nbformat": 4,
  "vscode": {
   "interpreter": {
    "hash": "e7370f93d1d0cde622a1f8e1c04877d8463912d04d973331ad4851f04de6915a"
   }
  }
 },
 "nbformat": 4,
 "nbformat_minor": 2
}
